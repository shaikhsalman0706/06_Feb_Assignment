{
 "cells": [
  {
   "cell_type": "markdown",
   "id": "f9a0ccea",
   "metadata": {},
   "source": [
    "### Q1. Create a function which will take a list as an argument and return the product of all the numbers after creating a flat list. Use the below-given list as an argument for your function.\n",
    "### list1 = [1,2,3,4, [44,55,66, True], False, (34,56,78,89,34), {1,2,3,3,2,1}, {1:34, \"key2\": [55, 67, 78, 89], 4: (45,22, 61,34)}, [56, 'data science'], 'Machine Learning']\n",
    "### Note: you must extract numeric keys and values of the dictionary also."
   ]
  },
  {
   "cell_type": "code",
   "execution_count": 1,
   "id": "c369a357",
   "metadata": {},
   "outputs": [],
   "source": [
    "def flatten_and_multiply(lst):\n",
    "    flat_list = []\n",
    "    for i in lst:\n",
    "        if type(i) in [int, float]:\n",
    "            flat_list.append(i)\n",
    "        elif type(i) == list:\n",
    "            for j in i:\n",
    "                if type(j) in [int, float]:\n",
    "                    flat_list.append(j)\n",
    "                elif type(j) == tuple:\n",
    "                    for k in j:\n",
    "                        if type(k) in [int, float]:\n",
    "                            flat_list.append(k)\n",
    "                elif type(j) == dict:\n",
    "                    for k, v in j.items():\n",
    "                        if type(k) in [int, float]:\n",
    "                            flat_list.append(k)\n",
    "                        if type(v) in [int, float]:\n",
    "                            flat_list.append(v)\n",
    "                        elif type(v) == list:\n",
    "                            for x in v:\n",
    "                                if type(x) in [int, float]:\n",
    "                                    flat_list.append(x)\n",
    "                        elif type(v) == tuple:\n",
    "                            for x in v:\n",
    "                                if type(x) in [int, float]:\n",
    "                                    flat_list.append(x)\n",
    "        elif type(i) == tuple:\n",
    "            for j in i:\n",
    "                if type(j) in [int, float]:\n",
    "                    flat_list.append(j)\n",
    "        elif type(i) == dict:\n",
    "            for j, k in i.items():\n",
    "                if type(j) in [int, float]:\n",
    "                    flat_list.append(j)\n",
    "                if type(k) in [int, float]:\n",
    "                    flat_list.append(k)\n",
    "                elif type(k) == list:\n",
    "                    for x in k:\n",
    "                        if type(x) in [int, float]:\n",
    "                            flat_list.append(x)\n",
    "                elif type(k) == tuple:\n",
    "                    for x in k:\n",
    "                        if type(x) in [int, float]:\n",
    "                            flat_list.append(x)\n",
    "    product = 1\n",
    "    for i in flat_list:\n",
    "        product *= i\n",
    "    return product"
   ]
  },
  {
   "cell_type": "code",
   "execution_count": 2,
   "id": "1a7a6be7",
   "metadata": {},
   "outputs": [
    {
     "name": "stdout",
     "output_type": "stream",
     "text": [
      "689118639831180913138973540352000\n"
     ]
    }
   ],
   "source": [
    "list1 = [1,2,3,4, [44,55,66, True], False, (34,56,78,89,34), {1,2,3,3,2,1}, {1:34, \"key2\": [55, 67, 78, 89], 4: (45, 22, 61, 34)}, [56, 'data science'], 'Machine Learning']\n",
    "result = flatten_and_multiply(list1)\n",
    "print(result)"
   ]
  },
  {
   "cell_type": "markdown",
   "id": "ae2e0a28",
   "metadata": {},
   "source": [
    "### Q2. Write a python program for encrypting a message sent to you by your friend. The logic of encryption should be such that, for a the output should be z. For b, the output should be y. For c, the output should be x respectively. Also, the whitespace should be replaced with a dollar sign. Keep the punctuation marks unchanged. Input Sentence: I want to become a Data Scientist. Encrypt the above input sentence using the program you just created.\n",
    "### Note: Convert the given input sentence into lowercase before encrypting. The final output should be lowercase."
   ]
  },
  {
   "cell_type": "code",
   "execution_count": 3,
   "id": "9428db1e",
   "metadata": {},
   "outputs": [],
   "source": [
    "def encrypt_message(message):\n",
    "    alphabet = \"abcdefghijklmnopqrstuvwxyz\"\n",
    "    message = message.lower()\n",
    "    encrypted_message = \"\"\n",
    "    for char in message:\n",
    "        if char in alphabet:\n",
    "            index = alphabet.index(char)\n",
    "            encrypted_char = alphabet[25-index]\n",
    "        elif char == \" \":\n",
    "            encrypted_char = \"$\"\n",
    "        else:\n",
    "            encrypted_char = char\n",
    "        encrypted_message += encrypted_char\n",
    "    return encrypted_message"
   ]
  },
  {
   "cell_type": "code",
   "execution_count": 4,
   "id": "ec51aa46",
   "metadata": {},
   "outputs": [
    {
     "name": "stdout",
     "output_type": "stream",
     "text": [
      "r$dzmg$gl$yvxlnv$z$wzgz$hxrvmgrhg.\n"
     ]
    }
   ],
   "source": [
    "message = \"I want to become a Data Scientist.\"\n",
    "encrypted_message = encrypt_message(message)\n",
    "print(encrypted_message)"
   ]
  },
  {
   "cell_type": "code",
   "execution_count": null,
   "id": "574ad127",
   "metadata": {},
   "outputs": [],
   "source": []
  }
 ],
 "metadata": {
  "kernelspec": {
   "display_name": "Python 3 (ipykernel)",
   "language": "python",
   "name": "python3"
  },
  "language_info": {
   "codemirror_mode": {
    "name": "ipython",
    "version": 3
   },
   "file_extension": ".py",
   "mimetype": "text/x-python",
   "name": "python",
   "nbconvert_exporter": "python",
   "pygments_lexer": "ipython3",
   "version": "3.9.13"
  }
 },
 "nbformat": 4,
 "nbformat_minor": 5
}
